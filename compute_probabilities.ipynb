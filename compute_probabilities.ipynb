{
 "cells": [
  {
   "cell_type": "markdown",
   "id": "4ea06cbc",
   "metadata": {},
   "source": [
    "# Computing Probabilities"
   ]
  },
  {
   "cell_type": "markdown",
   "id": "7f3305ba",
   "metadata": {},
   "source": [
    "## Probabilities for an unbiased coin"
   ]
  },
  {
   "cell_type": "markdown",
   "id": "a6a2e371",
   "metadata": {},
   "source": [
    "### Define event conditions"
   ]
  },
  {
   "cell_type": "code",
   "execution_count": 1,
   "id": "edc2eeba",
   "metadata": {},
   "outputs": [],
   "source": [
    "def is_head_or_tails(outcome):\n",
    "    return outcome in {'Heads', 'Tails'}\n",
    "\n",
    "def is_neither(outcome):\n",
    "    return not is_head_or_tails(outcome)\n",
    "\n",
    "def is_head(outcome):\n",
    "    return outcome == 'Heads'\n",
    "\n",
    "def is_tail(outcome):\n",
    "    return outcome == 'Tails'"
   ]
  },
  {
   "cell_type": "markdown",
   "id": "19aa0577",
   "metadata": {},
   "source": [
    "### Define an event-detection function"
   ]
  },
  {
   "cell_type": "code",
   "execution_count": 2,
   "id": "0e6d62a6",
   "metadata": {},
   "outputs": [],
   "source": [
    "def get_matching_event(event_condition, sample_space):\n",
    "    return set([outcome for outcome in sample_space \\\n",
    "                if event_condition(outcome)])"
   ]
  },
  {
   "cell_type": "markdown",
   "id": "93ad3f6e",
   "metadata": {},
   "source": [
    "### Apply the event-detection function"
   ]
  },
  {
   "cell_type": "code",
   "execution_count": 5,
   "id": "7f2e1034",
   "metadata": {},
   "outputs": [
    {
     "name": "stdout",
     "output_type": "stream",
     "text": [
      "Event Condition: is_neither\n",
      "Event: set()\n",
      "\n",
      "Event Condition: is_head_or_tails\n",
      "Event: {'Heads', 'Tails'}\n",
      "\n",
      "Event Condition: is_tail\n",
      "Event: {'Tails'}\n",
      "\n",
      "Event Condition: is_head\n",
      "Event: {'Heads'}\n",
      "\n"
     ]
    }
   ],
   "source": [
    "sample_space = {'Heads', 'Tails'}\n",
    "\n",
    "event_conditions = {is_head_or_tails, is_neither, is_head, is_tail}\n",
    "\n",
    "for event_condition in event_conditions:\n",
    "    print(f\"Event Condition: {event_condition.__name__}\")\n",
    "    event = get_matching_event(event_condition, sample_space)\n",
    "    print(f\"Event: {event}\\n\")"
   ]
  },
  {
   "cell_type": "markdown",
   "id": "dc885809",
   "metadata": {},
   "source": [
    "### Define an event-probability function"
   ]
  },
  {
   "cell_type": "code",
   "execution_count": 6,
   "id": "fc930f9e",
   "metadata": {},
   "outputs": [],
   "source": [
    "def compute_probability(event_condition, sample_space):\n",
    "    event = get_matching_event(event_condition, sample_space)\n",
    "    return len(event) / len(sample_space)"
   ]
  },
  {
   "cell_type": "markdown",
   "id": "f405e38b",
   "metadata": {},
   "source": [
    "### Apply the event-probability function"
   ]
  },
  {
   "cell_type": "code",
   "execution_count": 7,
   "id": "650b8133",
   "metadata": {},
   "outputs": [
    {
     "name": "stdout",
     "output_type": "stream",
     "text": [
      "Probability of event is_neither is 0.0.\n",
      "Probability of event is_head_or_tails is 1.0.\n",
      "Probability of event is_tail is 0.5.\n",
      "Probability of event is_head is 0.5.\n"
     ]
    }
   ],
   "source": [
    "for event_condition in event_conditions:\n",
    "    prob = compute_probability(event_condition, sample_space)\n",
    "    name = event_condition.__name__\n",
    "    print(f\"Probability of event '{name}' is {prob}.\")"
   ]
  },
  {
   "cell_type": "markdown",
   "id": "2ae76db8",
   "metadata": {},
   "source": [
    "## Probabilities for a biased coin"
   ]
  },
  {
   "cell_type": "markdown",
   "id": "532a0357",
   "metadata": {},
   "source": [
    "### Weighted sample space"
   ]
  },
  {
   "cell_type": "code",
   "execution_count": 8,
   "id": "4f82dcc6",
   "metadata": {},
   "outputs": [],
   "source": [
    "weighted_sample_space = {'Heads': 4, 'Tails': 1}"
   ]
  },
  {
   "cell_type": "markdown",
   "id": "79d09241",
   "metadata": {},
   "source": [
    "### Define a generalized event-probability function"
   ]
  },
  {
   "cell_type": "code",
   "execution_count": 9,
   "id": "4120ecc8",
   "metadata": {},
   "outputs": [],
   "source": [
    "def compute_event_probability(event_condition, generic_sample_space):\n",
    "    # The sample space can be either an unweighted set or a weighted dictionary\n",
    "    # The sample space is a weighted dictionary, python will iterate over its keys when calling the \n",
    "    # get_matching_event function\n",
    "    event = get_matching_event(event_condition, generic_sample_space)\n",
    "    # Check whether the sample space is a set\n",
    "    if type(generic_sample_space) == type(set()):\n",
    "        return len(event) / len(generic_sample_space)\n",
    "    \n",
    "    event_size = sum(generic_sample_space[outcome] for outcome in event)\n",
    "    return event_size / sum(generic_sample_space.values())"
   ]
  },
  {
   "cell_type": "markdown",
   "id": "cfba27b4",
   "metadata": {},
   "source": [
    "### Apply the generalized event-probability function"
   ]
  },
  {
   "cell_type": "code",
   "execution_count": 10,
   "id": "26f91d1f",
   "metadata": {},
   "outputs": [
    {
     "name": "stdout",
     "output_type": "stream",
     "text": [
      "Probability of event 'is_neither' is 0.0.\n",
      "Probability of event 'is_head_or_tails' is 1.0.\n",
      "Probability of event 'is_tail' is 0.2.\n",
      "Probability of event 'is_head' is 0.8.\n"
     ]
    }
   ],
   "source": [
    "for event_condition in event_conditions:\n",
    "    prob = compute_event_probability(event_condition, weighted_sample_space)\n",
    "    name = event_condition.__name__\n",
    "    print(f\"Probability of event '{name}' is {prob}.\")"
   ]
  },
  {
   "cell_type": "markdown",
   "id": "21288426",
   "metadata": {},
   "source": [
    "## Analyze a family with four children\n",
    "\n",
    "If a family has four children, find the probability that exactly two of the children are boys?"
   ]
  },
  {
   "cell_type": "markdown",
   "id": "78523b7e",
   "metadata": {},
   "source": [
    "### Construct the sample space"
   ]
  },
  {
   "cell_type": "markdown",
   "id": "ef4cd04c",
   "metadata": {},
   "source": [
    "### The long way"
   ]
  },
  {
   "cell_type": "code",
   "execution_count": 11,
   "id": "fcb5c6ca",
   "metadata": {},
   "outputs": [
    {
     "name": "stdout",
     "output_type": "stream",
     "text": [
      "{('Boy', 'Girl', 'Girl', 'Girl'), ('Girl', 'Girl', 'Boy', 'Boy'), ('Girl', 'Boy', 'Boy', 'Girl'), ('Girl', 'Girl', 'Boy', 'Girl'), ('Boy', 'Girl', 'Boy', 'Girl'), ('Boy', 'Boy', 'Boy', 'Boy'), ('Girl', 'Girl', 'Girl', 'Boy'), ('Boy', 'Girl', 'Girl', 'Boy'), ('Girl', 'Boy', 'Girl', 'Boy'), ('Girl', 'Girl', 'Girl', 'Girl'), ('Boy', 'Boy', 'Girl', 'Boy'), ('Boy', 'Boy', 'Boy', 'Girl'), ('Boy', 'Boy', 'Girl', 'Girl'), ('Boy', 'Girl', 'Boy', 'Boy'), ('Girl', 'Boy', 'Girl', 'Girl'), ('Girl', 'Boy', 'Boy', 'Boy')}\n"
     ]
    }
   ],
   "source": [
    "possible_children = ['Boy', 'Girl']\n",
    "sample_space = set()\n",
    "\n",
    "for child1 in possible_children:\n",
    "    for child2 in possible_children:\n",
    "        for child3 in possible_children:\n",
    "            for child4 in possible_children:\n",
    "                outcome = (child1, child2, child3, child4)\n",
    "                sample_space.add(outcome)\n",
    "                \n",
    "print(sample_space)"
   ]
  },
  {
   "cell_type": "markdown",
   "id": "7a781258",
   "metadata": {},
   "source": [
    "### The more efficient way"
   ]
  },
  {
   "cell_type": "code",
   "execution_count": 14,
   "id": "e6d8cd04",
   "metadata": {},
   "outputs": [
    {
     "data": {
      "text/plain": [
       "[['Boy', 'Girl'], ['Boy', 'Girl'], ['Boy', 'Girl'], ['Boy', 'Girl']]"
      ]
     },
     "execution_count": 14,
     "metadata": {},
     "output_type": "execute_result"
    }
   ],
   "source": [
    "4 * [possible_children]"
   ]
  },
  {
   "cell_type": "code",
   "execution_count": 15,
   "id": "ba65a663",
   "metadata": {},
   "outputs": [],
   "source": [
    "from itertools import product\n",
    "\n",
    "# The * operator unpacks multople arguments stored in a list. These arguments are then passed to a function.\n",
    "all_combinations = product(* (4 * [possible_children]))\n",
    "assert set(all_combinations) == sample_space"
   ]
  },
  {
   "cell_type": "markdown",
   "id": "da79a9fb",
   "metadata": {},
   "source": [
    "### The most efficient way"
   ]
  },
  {
   "cell_type": "code",
   "execution_count": 18,
   "id": "e85a65e0",
   "metadata": {},
   "outputs": [],
   "source": [
    "sample_space_efficient = set(product(possible_children, repeat = 4))\n",
    "assert sample_space_efficient == sample_space"
   ]
  },
  {
   "cell_type": "markdown",
   "id": "4ffcd9c4",
   "metadata": {},
   "source": [
    "### Compute the probability of two boys"
   ]
  },
  {
   "cell_type": "markdown",
   "id": "ffd800bb",
   "metadata": {},
   "source": [
    "### Define the event"
   ]
  },
  {
   "cell_type": "code",
   "execution_count": 19,
   "id": "353b39dd",
   "metadata": {},
   "outputs": [],
   "source": [
    "def has_two_boys(outcome):\n",
    "    return len([child for child in outcome if child == 'Boy']) == 2"
   ]
  },
  {
   "cell_type": "markdown",
   "id": "d23b8816",
   "metadata": {},
   "source": [
    "### Compute the probability"
   ]
  },
  {
   "cell_type": "code",
   "execution_count": 21,
   "id": "0c5fc17e",
   "metadata": {},
   "outputs": [
    {
     "name": "stdout",
     "output_type": "stream",
     "text": [
      "Probability of 2 boys is 0.375.\n"
     ]
    }
   ],
   "source": [
    "prob = compute_event_probability(has_two_boys, sample_space)\n",
    "print(f\"Probability of 2 boys is {prob}.\")"
   ]
  },
  {
   "cell_type": "markdown",
   "id": "07c67fb5",
   "metadata": {},
   "source": [
    "## Analyze multiple die rolls\n",
    "\n",
    "If we roll a fair six-sided die six times, find the probability that the sum is 21."
   ]
  },
  {
   "cell_type": "code",
   "execution_count": 22,
   "id": "cd27a572",
   "metadata": {},
   "outputs": [
    {
     "data": {
      "text/plain": [
       "[1, 2, 3, 4, 5, 6]"
      ]
     },
     "execution_count": 22,
     "metadata": {},
     "output_type": "execute_result"
    }
   ],
   "source": [
    "possible_rolls = list(range(1, 7))\n",
    "possible_rolls"
   ]
  },
  {
   "cell_type": "markdown",
   "id": "0c4e6837",
   "metadata": {},
   "source": [
    "### The sample space"
   ]
  },
  {
   "cell_type": "code",
   "execution_count": 23,
   "id": "bf787a26",
   "metadata": {},
   "outputs": [],
   "source": [
    "sample_space = set(product(possible_rolls, repeat=6))"
   ]
  },
  {
   "cell_type": "markdown",
   "id": "5d51df13",
   "metadata": {},
   "source": [
    "### The event"
   ]
  },
  {
   "cell_type": "code",
   "execution_count": 24,
   "id": "c8243c90",
   "metadata": {},
   "outputs": [],
   "source": [
    "def has_sum_of_21(outcome):\n",
    "    return sum(outcome) == 21"
   ]
  },
  {
   "cell_type": "markdown",
   "id": "ac44fc61",
   "metadata": {},
   "source": [
    "### The probability"
   ]
  },
  {
   "cell_type": "code",
   "execution_count": 25,
   "id": "ef1c99dd",
   "metadata": {},
   "outputs": [
    {
     "name": "stdout",
     "output_type": "stream",
     "text": [
      "The probability that 6 rolls sum to 21 is 0.09284979423868313.\n"
     ]
    }
   ],
   "source": [
    "prob = compute_event_probability(has_sum_of_21, sample_space)\n",
    "print(f\"The probability that 6 rolls sum to 21 is {prob}.\")"
   ]
  },
  {
   "cell_type": "markdown",
   "id": "0ca6accb",
   "metadata": {},
   "source": [
    "### Second method - weighted sample space"
   ]
  },
  {
   "cell_type": "code",
   "execution_count": 26,
   "id": "a65fc71d",
   "metadata": {},
   "outputs": [],
   "source": [
    "# defaultdict gives dictionaries whose keys are all assigned a default value\n",
    "# defaultdict(int) returns a dictionary where the default value for each key is zero\n",
    "\n",
    "from collections import defaultdict\n",
    "weighted_sample_space = defaultdict(int)\n",
    "for outcome in sample_space:\n",
    "    total = sum(outcome)\n",
    "    weighted_sample_space[total] += 1"
   ]
  },
  {
   "cell_type": "markdown",
   "id": "aa170015",
   "metadata": {},
   "source": [
    "### Check very rare die-roll combinations"
   ]
  },
  {
   "cell_type": "code",
   "execution_count": 27,
   "id": "ff9527ab",
   "metadata": {},
   "outputs": [],
   "source": [
    "assert weighted_sample_space[6] == 1\n",
    "assert weighted_sample_space[36] == 1"
   ]
  },
  {
   "cell_type": "markdown",
   "id": "0b3f00ea",
   "metadata": {},
   "source": [
    "### Number of ways for 6 die rolls to sum to 21"
   ]
  },
  {
   "cell_type": "code",
   "execution_count": 29,
   "id": "e49ecf63",
   "metadata": {},
   "outputs": [
    {
     "name": "stdout",
     "output_type": "stream",
     "text": [
      "There are 4332 for 6 die rolls to sum to 21.\n"
     ]
    }
   ],
   "source": [
    "num_ways = weighted_sample_space[21]\n",
    "print(f\"There are {num_ways} for 6 die rolls to sum to 21.\")"
   ]
  },
  {
   "cell_type": "markdown",
   "id": "a693c142",
   "metadata": {},
   "source": [
    "### Calculate the probability"
   ]
  },
  {
   "cell_type": "code",
   "execution_count": 30,
   "id": "1bf70f45",
   "metadata": {},
   "outputs": [
    {
     "name": "stdout",
     "output_type": "stream",
     "text": [
      "The probability that 6 rolls sum to 21 is 0.09284979423868313.\n"
     ]
    }
   ],
   "source": [
    "prob = compute_event_probability(lambda x: x == 21, weighted_sample_space)\n",
    "print(f\"The probability that 6 rolls sum to 21 is {prob}.\")"
   ]
  }
 ],
 "metadata": {
  "kernelspec": {
   "display_name": "Python 3 (ipykernel)",
   "language": "python",
   "name": "python3"
  },
  "language_info": {
   "codemirror_mode": {
    "name": "ipython",
    "version": 3
   },
   "file_extension": ".py",
   "mimetype": "text/x-python",
   "name": "python",
   "nbconvert_exporter": "python",
   "pygments_lexer": "ipython3",
   "version": "3.10.4"
  }
 },
 "nbformat": 4,
 "nbformat_minor": 5
}
