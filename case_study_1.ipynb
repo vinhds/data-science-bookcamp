{
 "cells": [
  {
   "cell_type": "markdown",
   "id": "4ea06cbc",
   "metadata": {},
   "source": [
    "# Computing Probabilities"
   ]
  },
  {
   "cell_type": "markdown",
   "id": "7f3305ba",
   "metadata": {},
   "source": [
    "## Probabilities for an unbiased coin"
   ]
  },
  {
   "cell_type": "markdown",
   "id": "a6a2e371",
   "metadata": {},
   "source": [
    "### Define event conditions"
   ]
  },
  {
   "cell_type": "code",
   "execution_count": 2,
   "id": "edc2eeba",
   "metadata": {},
   "outputs": [],
   "source": [
    "def is_head_or_tails(outcome):\n",
    "    return outcome in {'Heads', 'Tails'}\n",
    "\n",
    "def is_neither(outcome):\n",
    "    return not is_head_or_tails(outcome)\n",
    "\n",
    "def is_head(outcome):\n",
    "    return outcome == 'Heads'\n",
    "\n",
    "def is_tail(outcome):\n",
    "    return outcome == 'Tails'"
   ]
  },
  {
   "cell_type": "markdown",
   "id": "19aa0577",
   "metadata": {},
   "source": [
    "### Define an event-detection function"
   ]
  },
  {
   "cell_type": "code",
   "execution_count": 3,
   "id": "0e6d62a6",
   "metadata": {},
   "outputs": [],
   "source": [
    "def get_matching_event(event_condition, sample_space):\n",
    "    return set([outcome for outcome in sample_space \\\n",
    "                if event_condition(outcome)])"
   ]
  },
  {
   "cell_type": "markdown",
   "id": "93ad3f6e",
   "metadata": {},
   "source": [
    "### Apply the event-detection function"
   ]
  },
  {
   "cell_type": "code",
   "execution_count": 4,
   "id": "7f2e1034",
   "metadata": {},
   "outputs": [
    {
     "name": "stdout",
     "output_type": "stream",
     "text": [
      "Event Condition: is_head_or_tails\n",
      "Event: {'Heads', 'Tails'}\n",
      "\n",
      "Event Condition: is_neither\n",
      "Event: set()\n",
      "\n",
      "Event Condition: is_head\n",
      "Event: {'Heads'}\n",
      "\n",
      "Event Condition: is_tail\n",
      "Event: {'Tails'}\n",
      "\n"
     ]
    }
   ],
   "source": [
    "sample_space = {'Heads', 'Tails'}\n",
    "\n",
    "event_conditions = {is_head_or_tails, is_neither, is_head, is_tail}\n",
    "\n",
    "for event_condition in event_conditions:\n",
    "    print(f\"Event Condition: {event_condition.__name__}\")\n",
    "    event = get_matching_event(event_condition, sample_space)\n",
    "    print(f\"Event: {event}\\n\")"
   ]
  },
  {
   "cell_type": "markdown",
   "id": "dc885809",
   "metadata": {},
   "source": [
    "### Define an event-probability function"
   ]
  },
  {
   "cell_type": "code",
   "execution_count": 5,
   "id": "fc930f9e",
   "metadata": {},
   "outputs": [],
   "source": [
    "def compute_probability(event_condition, sample_space):\n",
    "    event = get_matching_event(event_condition, sample_space)\n",
    "    return len(event) / len(sample_space)"
   ]
  },
  {
   "cell_type": "markdown",
   "id": "f405e38b",
   "metadata": {},
   "source": [
    "### Apply the event-probability function"
   ]
  },
  {
   "cell_type": "code",
   "execution_count": 6,
   "id": "650b8133",
   "metadata": {},
   "outputs": [
    {
     "name": "stdout",
     "output_type": "stream",
     "text": [
      "Probability of event 'is_head_or_tails' is 1.0.\n",
      "Probability of event 'is_neither' is 0.0.\n",
      "Probability of event 'is_head' is 0.5.\n",
      "Probability of event 'is_tail' is 0.5.\n"
     ]
    }
   ],
   "source": [
    "for event_condition in event_conditions:\n",
    "    prob = compute_probability(event_condition, sample_space)\n",
    "    name = event_condition.__name__\n",
    "    print(f\"Probability of event '{name}' is {prob}.\")"
   ]
  },
  {
   "cell_type": "markdown",
   "id": "2ae76db8",
   "metadata": {},
   "source": [
    "## Probabilities for a biased coin"
   ]
  },
  {
   "cell_type": "markdown",
   "id": "532a0357",
   "metadata": {},
   "source": [
    "### Weighted sample space"
   ]
  },
  {
   "cell_type": "code",
   "execution_count": 7,
   "id": "4f82dcc6",
   "metadata": {},
   "outputs": [],
   "source": [
    "weighted_sample_space = {'Heads': 4, 'Tails': 1}"
   ]
  },
  {
   "cell_type": "markdown",
   "id": "79d09241",
   "metadata": {},
   "source": [
    "### Define a generalized event-probability function"
   ]
  },
  {
   "cell_type": "code",
   "execution_count": 8,
   "id": "4120ecc8",
   "metadata": {},
   "outputs": [],
   "source": [
    "def compute_event_probability(event_condition, generic_sample_space):\n",
    "    # The sample space can be either an unweighted set or a weighted dictionary\n",
    "    # The sample space is a weighted dictionary, python will iterate over its keys when calling the \n",
    "    # get_matching_event function\n",
    "    event = get_matching_event(event_condition, generic_sample_space)\n",
    "    # Check whether the sample space is a set\n",
    "    if type(generic_sample_space) == type(set()):\n",
    "        return len(event) / len(generic_sample_space)\n",
    "    \n",
    "    event_size = sum(generic_sample_space[outcome] for outcome in event)\n",
    "    return event_size / sum(generic_sample_space.values())"
   ]
  },
  {
   "cell_type": "markdown",
   "id": "cfba27b4",
   "metadata": {},
   "source": [
    "### Apply the generalized event-probability function"
   ]
  },
  {
   "cell_type": "code",
   "execution_count": 9,
   "id": "26f91d1f",
   "metadata": {},
   "outputs": [
    {
     "name": "stdout",
     "output_type": "stream",
     "text": [
      "Probability of event 'is_head_or_tails' is 1.0.\n",
      "Probability of event 'is_neither' is 0.0.\n",
      "Probability of event 'is_head' is 0.8.\n",
      "Probability of event 'is_tail' is 0.2.\n"
     ]
    }
   ],
   "source": [
    "for event_condition in event_conditions:\n",
    "    prob = compute_event_probability(event_condition, weighted_sample_space)\n",
    "    name = event_condition.__name__\n",
    "    print(f\"Probability of event '{name}' is {prob}.\")"
   ]
  },
  {
   "cell_type": "markdown",
   "id": "21288426",
   "metadata": {},
   "source": [
    "## Analyze a family with four children\n",
    "\n",
    "If a family has four children, find the probability that exactly two of the children are boys?"
   ]
  },
  {
   "cell_type": "markdown",
   "id": "78523b7e",
   "metadata": {},
   "source": [
    "### Construct the sample space"
   ]
  },
  {
   "cell_type": "markdown",
   "id": "ef4cd04c",
   "metadata": {},
   "source": [
    "### The long way"
   ]
  },
  {
   "cell_type": "code",
   "execution_count": 10,
   "id": "fcb5c6ca",
   "metadata": {},
   "outputs": [
    {
     "name": "stdout",
     "output_type": "stream",
     "text": [
      "{('Girl', 'Girl', 'Boy', 'Girl'), ('Girl', 'Boy', 'Boy', 'Boy'), ('Boy', 'Girl', 'Boy', 'Boy'), ('Boy', 'Boy', 'Boy', 'Boy'), ('Boy', 'Girl', 'Girl', 'Girl'), ('Girl', 'Girl', 'Girl', 'Girl'), ('Girl', 'Boy', 'Girl', 'Girl'), ('Boy', 'Boy', 'Girl', 'Boy'), ('Girl', 'Girl', 'Boy', 'Boy'), ('Girl', 'Boy', 'Boy', 'Girl'), ('Boy', 'Girl', 'Boy', 'Girl'), ('Boy', 'Boy', 'Boy', 'Girl'), ('Girl', 'Girl', 'Girl', 'Boy'), ('Boy', 'Girl', 'Girl', 'Boy'), ('Girl', 'Boy', 'Girl', 'Boy'), ('Boy', 'Boy', 'Girl', 'Girl')}\n"
     ]
    }
   ],
   "source": [
    "possible_children = ['Boy', 'Girl']\n",
    "sample_space = set()\n",
    "\n",
    "for child1 in possible_children:\n",
    "    for child2 in possible_children:\n",
    "        for child3 in possible_children:\n",
    "            for child4 in possible_children:\n",
    "                outcome = (child1, child2, child3, child4)\n",
    "                sample_space.add(outcome)\n",
    "                \n",
    "print(sample_space)"
   ]
  },
  {
   "cell_type": "markdown",
   "id": "7a781258",
   "metadata": {},
   "source": [
    "### The more efficient way"
   ]
  },
  {
   "cell_type": "code",
   "execution_count": 11,
   "id": "e6d8cd04",
   "metadata": {},
   "outputs": [
    {
     "data": {
      "text/plain": [
       "[['Boy', 'Girl'], ['Boy', 'Girl'], ['Boy', 'Girl'], ['Boy', 'Girl']]"
      ]
     },
     "execution_count": 11,
     "metadata": {},
     "output_type": "execute_result"
    }
   ],
   "source": [
    "4 * [possible_children]"
   ]
  },
  {
   "cell_type": "code",
   "execution_count": 12,
   "id": "ba65a663",
   "metadata": {},
   "outputs": [],
   "source": [
    "from itertools import product\n",
    "\n",
    "# The * operator unpacks multople arguments stored in a list. These arguments are then passed to a function.\n",
    "all_combinations = product(* (4 * [possible_children]))\n",
    "assert set(all_combinations) == sample_space"
   ]
  },
  {
   "cell_type": "markdown",
   "id": "da79a9fb",
   "metadata": {},
   "source": [
    "### The most efficient way"
   ]
  },
  {
   "cell_type": "code",
   "execution_count": 13,
   "id": "e85a65e0",
   "metadata": {},
   "outputs": [],
   "source": [
    "sample_space_efficient = set(product(possible_children, repeat = 4))\n",
    "assert sample_space_efficient == sample_space"
   ]
  },
  {
   "cell_type": "markdown",
   "id": "4ffcd9c4",
   "metadata": {},
   "source": [
    "### Compute the probability of two boys"
   ]
  },
  {
   "cell_type": "markdown",
   "id": "ffd800bb",
   "metadata": {},
   "source": [
    "### Define the event"
   ]
  },
  {
   "cell_type": "code",
   "execution_count": 14,
   "id": "353b39dd",
   "metadata": {},
   "outputs": [],
   "source": [
    "def has_two_boys(outcome):\n",
    "    return len([child for child in outcome if child == 'Boy']) == 2"
   ]
  },
  {
   "cell_type": "markdown",
   "id": "d23b8816",
   "metadata": {},
   "source": [
    "### Compute the probability"
   ]
  },
  {
   "cell_type": "code",
   "execution_count": 15,
   "id": "0c5fc17e",
   "metadata": {},
   "outputs": [
    {
     "name": "stdout",
     "output_type": "stream",
     "text": [
      "Probability of 2 boys is 0.375.\n"
     ]
    }
   ],
   "source": [
    "prob = compute_event_probability(has_two_boys, sample_space)\n",
    "print(f\"Probability of 2 boys is {prob}.\")"
   ]
  },
  {
   "cell_type": "markdown",
   "id": "07c67fb5",
   "metadata": {},
   "source": [
    "## Analyze multiple die rolls\n",
    "\n",
    "If we roll a fair six-sided die six times, find the probability that the sum is 21."
   ]
  },
  {
   "cell_type": "code",
   "execution_count": 16,
   "id": "cd27a572",
   "metadata": {},
   "outputs": [
    {
     "data": {
      "text/plain": [
       "[1, 2, 3, 4, 5, 6]"
      ]
     },
     "execution_count": 16,
     "metadata": {},
     "output_type": "execute_result"
    }
   ],
   "source": [
    "possible_rolls = list(range(1, 7))\n",
    "possible_rolls"
   ]
  },
  {
   "cell_type": "markdown",
   "id": "0c4e6837",
   "metadata": {},
   "source": [
    "### The sample space"
   ]
  },
  {
   "cell_type": "code",
   "execution_count": 17,
   "id": "bf787a26",
   "metadata": {},
   "outputs": [],
   "source": [
    "sample_space = set(product(possible_rolls, repeat=6))"
   ]
  },
  {
   "cell_type": "markdown",
   "id": "5d51df13",
   "metadata": {},
   "source": [
    "### The event"
   ]
  },
  {
   "cell_type": "code",
   "execution_count": 18,
   "id": "c8243c90",
   "metadata": {},
   "outputs": [],
   "source": [
    "def has_sum_of_21(outcome):\n",
    "    return sum(outcome) == 21"
   ]
  },
  {
   "cell_type": "markdown",
   "id": "ac44fc61",
   "metadata": {},
   "source": [
    "### The probability"
   ]
  },
  {
   "cell_type": "code",
   "execution_count": 19,
   "id": "ef1c99dd",
   "metadata": {},
   "outputs": [
    {
     "name": "stdout",
     "output_type": "stream",
     "text": [
      "The probability that 6 rolls sum to 21 is 0.09284979423868313.\n"
     ]
    }
   ],
   "source": [
    "prob = compute_event_probability(has_sum_of_21, sample_space)\n",
    "print(f\"The probability that 6 rolls sum to 21 is {prob}.\")"
   ]
  },
  {
   "cell_type": "markdown",
   "id": "0ca6accb",
   "metadata": {},
   "source": [
    "### Second method - weighted sample space"
   ]
  },
  {
   "cell_type": "code",
   "execution_count": 20,
   "id": "a65fc71d",
   "metadata": {},
   "outputs": [],
   "source": [
    "# defaultdict gives dictionaries whose keys are all assigned a default value\n",
    "# defaultdict(int) returns a dictionary where the default value for each key is zero\n",
    "\n",
    "from collections import defaultdict\n",
    "weighted_sample_space = defaultdict(int)\n",
    "for outcome in sample_space:\n",
    "    total = sum(outcome)\n",
    "    weighted_sample_space[total] += 1"
   ]
  },
  {
   "cell_type": "markdown",
   "id": "aa170015",
   "metadata": {},
   "source": [
    "### Check very rare die-roll combinations"
   ]
  },
  {
   "cell_type": "code",
   "execution_count": 21,
   "id": "ff9527ab",
   "metadata": {},
   "outputs": [],
   "source": [
    "assert weighted_sample_space[6] == 1\n",
    "assert weighted_sample_space[36] == 1"
   ]
  },
  {
   "cell_type": "markdown",
   "id": "0b3f00ea",
   "metadata": {},
   "source": [
    "### Number of ways for 6 die rolls to sum to 21"
   ]
  },
  {
   "cell_type": "code",
   "execution_count": 22,
   "id": "e49ecf63",
   "metadata": {},
   "outputs": [
    {
     "name": "stdout",
     "output_type": "stream",
     "text": [
      "There are 4332 for 6 die rolls to sum to 21.\n"
     ]
    }
   ],
   "source": [
    "num_ways = weighted_sample_space[21]\n",
    "print(f\"There are {num_ways} for 6 die rolls to sum to 21.\")"
   ]
  },
  {
   "cell_type": "markdown",
   "id": "a693c142",
   "metadata": {},
   "source": [
    "### Calculate the probability"
   ]
  },
  {
   "cell_type": "code",
   "execution_count": 23,
   "id": "1bf70f45",
   "metadata": {},
   "outputs": [
    {
     "name": "stdout",
     "output_type": "stream",
     "text": [
      "The probability that 6 rolls sum to 21 is 0.09284979423868313.\n"
     ]
    }
   ],
   "source": [
    "prob = compute_event_probability(lambda x: x == 21, weighted_sample_space)\n",
    "print(f\"The probability that 6 rolls sum to 21 is {prob}.\")"
   ]
  },
  {
   "cell_type": "markdown",
   "id": "7e44f4f9",
   "metadata": {},
   "source": [
    "## Computing probabilities over an interval"
   ]
  },
  {
   "cell_type": "markdown",
   "id": "59f260ff",
   "metadata": {},
   "source": [
    "### Define an interval function"
   ]
  },
  {
   "cell_type": "code",
   "execution_count": 24,
   "id": "f6ec9e07",
   "metadata": {},
   "outputs": [],
   "source": [
    "def is_in_interval(number, minimum, maximum):\n",
    "    return minimum <= number <= maximum"
   ]
  },
  {
   "cell_type": "markdown",
   "id": "0bfab7ad",
   "metadata": {},
   "source": [
    "### Compute probabilities over an interval\n",
    "\n",
    "Find the probability that six die rolls sum to a value between 10 and 21 (inclusive)."
   ]
  },
  {
   "cell_type": "code",
   "execution_count": 25,
   "id": "4633db0f",
   "metadata": {},
   "outputs": [
    {
     "name": "stdout",
     "output_type": "stream",
     "text": [
      "Probability the sum is between 10 and 21 inclusive is 0.5446244855967078.\n"
     ]
    }
   ],
   "source": [
    "prob = compute_event_probability(lambda x: is_in_interval(x, 10, 21), weighted_sample_space)\n",
    "\n",
    "print(f\"Probability the sum is between 10 and 21 inclusive is {prob}.\")"
   ]
  },
  {
   "cell_type": "markdown",
   "id": "bd5aabeb",
   "metadata": {},
   "source": [
    "### Evaluate extremes using interval analysis\n",
    "\n",
    "If we flip a coin 10 times and observe 8 heads, is it a sensible result for a fair coin? \n",
    "\n",
    "To analyze this question, we find the probability of obtaining extreme results, more specifically, we find the probability that 10 flips of a fair coin result in either 0 to 2 heads or 8 to 10 heads. "
   ]
  },
  {
   "cell_type": "markdown",
   "id": "7df956d2",
   "metadata": {},
   "source": [
    "### Weighted sample space for 10 coin flips"
   ]
  },
  {
   "cell_type": "code",
   "execution_count": 26,
   "id": "5f135e59",
   "metadata": {},
   "outputs": [],
   "source": [
    "def generate_coin_sample_space(num_flips=10):\n",
    "    weighted_sample_space = defaultdict(int)\n",
    "    for coin_flips in product(['Heads', 'Tails'], repeat=num_flips):\n",
    "        heads_count = len([outcome for outcome in coin_flips if outcome == 'Heads'])\n",
    "        weighted_sample_space[heads_count] += 1\n",
    "    return weighted_sample_space"
   ]
  },
  {
   "cell_type": "code",
   "execution_count": 27,
   "id": "318268e9",
   "metadata": {},
   "outputs": [],
   "source": [
    "weighted_sample_space = generate_coin_sample_space()"
   ]
  },
  {
   "cell_type": "code",
   "execution_count": 28,
   "id": "7394b878",
   "metadata": {},
   "outputs": [
    {
     "data": {
      "text/plain": [
       "defaultdict(int,\n",
       "            {10: 1,\n",
       "             9: 10,\n",
       "             8: 45,\n",
       "             7: 120,\n",
       "             6: 210,\n",
       "             5: 252,\n",
       "             4: 210,\n",
       "             3: 120,\n",
       "             2: 45,\n",
       "             1: 10,\n",
       "             0: 1})"
      ]
     },
     "execution_count": 28,
     "metadata": {},
     "output_type": "execute_result"
    }
   ],
   "source": [
    "weighted_sample_space"
   ]
  },
  {
   "cell_type": "markdown",
   "id": "a4c39462",
   "metadata": {},
   "source": [
    "### Compute an extreme interval probability"
   ]
  },
  {
   "cell_type": "code",
   "execution_count": 29,
   "id": "5b783bb3",
   "metadata": {},
   "outputs": [
    {
     "name": "stdout",
     "output_type": "stream",
     "text": [
      "Probability of observing more than 7 heads or 7 tails is 0.109375.\n"
     ]
    }
   ],
   "source": [
    "prob = compute_event_probability(lambda x: not is_in_interval(x, 3, 7), weighted_sample_space)\n",
    "print(f\"Probability of observing more than 7 heads or 7 tails is {prob}.\")"
   ]
  },
  {
   "cell_type": "markdown",
   "id": "b429f739",
   "metadata": {},
   "source": [
    "10 flips of a fair coin produce at least 8 identical results approximately 10% of the time. This probability is low but still plausible. We need more evidence. Suppose we flip the coin 10 additional times and it results in 8 more heads. That would reduce our confidence in the fairness of the coin. Let's find the probability of 20 flips of a fair coin producing either 0 to 4 heads or 16 to 20 heads."
   ]
  },
  {
   "cell_type": "markdown",
   "id": "001c0c93",
   "metadata": {},
   "source": [
    "### Further analysis"
   ]
  },
  {
   "cell_type": "code",
   "execution_count": 30,
   "id": "6982e1cf",
   "metadata": {
    "scrolled": false
   },
   "outputs": [
    {
     "name": "stdout",
     "output_type": "stream",
     "text": [
      "Probability of observing more than 15 heads or 15 tails is 0.01181793212890625.\n"
     ]
    }
   ],
   "source": [
    "weighted_sample_space_20_flips = generate_coin_sample_space(num_flips=20)\n",
    "prob = compute_event_probability(lambda x: not is_in_interval(x, 5, 15), weighted_sample_space_20_flips)\n",
    "print(f\"Probability of observing more than 15 heads or 15 tails is {prob}.\")"
   ]
  },
  {
   "cell_type": "markdown",
   "id": "7c52b06a",
   "metadata": {},
   "source": [
    "The added evidence causes a tenfold decrease in the probability. Our confidence in the coin's fairness would drop by tenfold accordingly."
   ]
  },
  {
   "cell_type": "markdown",
   "id": "5094fbbb",
   "metadata": {},
   "source": [
    "# Plot probabilities using Matplotlib"
   ]
  },
  {
   "cell_type": "markdown",
   "id": "93eccc78",
   "metadata": {},
   "source": [
    "## Basic Matplotlib plots"
   ]
  },
  {
   "cell_type": "markdown",
   "id": "79b6b4e6",
   "metadata": {},
   "source": [
    "### Import Matplotlib"
   ]
  },
  {
   "cell_type": "code",
   "execution_count": 31,
   "id": "e25db465",
   "metadata": {},
   "outputs": [],
   "source": [
    "import matplotlib.pyplot as plt"
   ]
  },
  {
   "cell_type": "markdown",
   "id": "39a4cf60",
   "metadata": {},
   "source": [
    "### Plot a linear relationship"
   ]
  },
  {
   "cell_type": "code",
   "execution_count": 32,
   "id": "eff39300",
   "metadata": {},
   "outputs": [
    {
     "data": {
      "image/png": "[encoded data removed]",
      "text/plain": [
       "<Figure size 432x288 with 1 Axes>"
      ]
     },
     "metadata": {
      "needs_background": "light"
     },
     "output_type": "display_data"
    }
   ],
   "source": [
    "x = range(0, 10)\n",
    "y = [2 * value for value in x]\n",
    "plt.plot(x, y)\n",
    "plt.show()"
   ]
  },
  {
   "cell_type": "markdown",
   "id": "dcd2edbb",
   "metadata": {},
   "source": [
    "### Plot individual data points"
   ]
  },
  {
   "cell_type": "code",
   "execution_count": 33,
   "id": "522d5504",
   "metadata": {},
   "outputs": [
    {
     "data": {
      "image/png": "[encoded data removed]",
      "text/plain": [
       "<Figure size 432x288 with 1 Axes>"
      ]
     },
     "metadata": {
      "needs_background": "light"
     },
     "output_type": "display_data"
    }
   ],
   "source": [
    "plt.scatter(x, y)\n",
    "plt.show()"
   ]
  },
  {
   "cell_type": "markdown",
   "id": "00a06abb",
   "metadata": {},
   "source": [
    "### Shade an interval beneath a connected plot"
   ]
  },
  {
   "cell_type": "code",
   "execution_count": 34,
   "id": "e878e824",
   "metadata": {},
   "outputs": [
    {
     "data": {
      "image/png": "[encoded data removed]",
      "text/plain": [
       "<Figure size 432x288 with 1 Axes>"
      ]
     },
     "metadata": {
      "needs_background": "light"
     },
     "output_type": "display_data"
    }
   ],
   "source": [
    "plt.plot(x,y)\n",
    "where = [is_in_interval(value, 2, 6) for value in x]\n",
    "plt.fill_between(x, y, where=where)\n",
    "plt.show()"
   ]
  },
  {
   "cell_type": "code",
   "execution_count": 35,
   "id": "89bcb886",
   "metadata": {
    "scrolled": true
   },
   "outputs": [
    {
     "data": {
      "image/png": "[encoded data removed]",
      "text/plain": [
       "<Figure size 432x288 with 1 Axes>"
      ]
     },
     "metadata": {
      "needs_background": "light"
     },
     "output_type": "display_data"
    }
   ],
   "source": [
    "plt.scatter(x, y)\n",
    "plt.plot(x, y)\n",
    "plt.fill_between(x, y, where=where)\n",
    "plt.show()"
   ]
  },
  {
   "cell_type": "markdown",
   "id": "3670a739",
   "metadata": {},
   "source": [
    "### Add axis labels"
   ]
  },
  {
   "cell_type": "code",
   "execution_count": 36,
   "id": "52dedc4a",
   "metadata": {},
   "outputs": [
    {
     "data": {
      "image/png": "[encoded data removed]",
      "text/plain": [
       "<Figure size 432x288 with 1 Axes>"
      ]
     },
     "metadata": {
      "needs_background": "light"
     },
     "output_type": "display_data"
    }
   ],
   "source": [
    "plt.plot(x, y)\n",
    "plt.xlabel('Values between zero and ten')\n",
    "plt.ylabel('Twice the values of x')\n",
    "plt.show()"
   ]
  },
  {
   "cell_type": "markdown",
   "id": "49974049",
   "metadata": {},
   "source": [
    "## Plot coin-flip probabilities"
   ]
  },
  {
   "cell_type": "markdown",
   "id": "4a5eb9e1",
   "metadata": {},
   "source": [
    "### Plot the coin-flip weighted sample space"
   ]
  },
  {
   "cell_type": "code",
   "execution_count": 37,
   "id": "c6d326bd",
   "metadata": {},
   "outputs": [
    {
     "data": {
      "image/png": "[encoded data removed]",
      "text/plain": [
       "<Figure size 432x288 with 1 Axes>"
      ]
     },
     "metadata": {
      "needs_background": "light"
     },
     "output_type": "display_data"
    }
   ],
   "source": [
    "x_10_flips = list(weighted_sample_space.keys())\n",
    "y_10_flips = [weighted_sample_space[key] for key in x_10_flips]\n",
    "plt.scatter(x_10_flips, y_10_flips)\n",
    "plt.xlabel('Head-count')\n",
    "plt.ylabel('Number of coin-flip combinations with x heads')\n",
    "plt.show()"
   ]
  },
  {
   "cell_type": "markdown",
   "id": "ad27c980",
   "metadata": {},
   "source": [
    "### Plot the coin-flip probabilities"
   ]
  },
  {
   "cell_type": "code",
   "execution_count": 38,
   "id": "ef7c18e4",
   "metadata": {},
   "outputs": [
    {
     "data": {
      "image/png": "[encoded data removed]",
      "text/plain": [
       "<Figure size 432x288 with 1 Axes>"
      ]
     },
     "metadata": {
      "needs_background": "light"
     },
     "output_type": "display_data"
    }
   ],
   "source": [
    "sample_space_size = sum(weighted_sample_space.values())\n",
    "prob_x_10_flips = [value / sample_space_size for value in y_10_flips]\n",
    "plt.scatter(x_10_flips, prob_x_10_flips)\n",
    "plt.xlabel('Head-count')\n",
    "plt.ylabel('Probability')\n",
    "plt.show()"
   ]
  },
  {
   "cell_type": "markdown",
   "id": "0314e56b",
   "metadata": {},
   "source": [
    "### Shade the interval under the extremes of a probability curve"
   ]
  },
  {
   "cell_type": "code",
   "execution_count": 39,
   "id": "65812dab",
   "metadata": {},
   "outputs": [
    {
     "data": {
      "image/png": "[encoded data removed]",
      "text/plain": [
       "<Figure size 432x288 with 1 Axes>"
      ]
     },
     "metadata": {
      "needs_background": "light"
     },
     "output_type": "display_data"
    }
   ],
   "source": [
    "plt.plot(x_10_flips, prob_x_10_flips)\n",
    "plt.scatter(x_10_flips, prob_x_10_flips)\n",
    "where = [not is_in_interval(value, 3, 7) for value in x_10_flips]\n",
    "plt.fill_between(x_10_flips, prob_x_10_flips, where=where)\n",
    "plt.xlabel('Head-count')\n",
    "plt.ylabel('Probability')\n",
    "plt.show()"
   ]
  },
  {
   "cell_type": "markdown",
   "id": "42f0869e",
   "metadata": {},
   "source": [
    "### Compare multiple coin-flip probability distributions"
   ]
  },
  {
   "cell_type": "markdown",
   "id": "ed74bfcf",
   "metadata": {},
   "source": [
    "### Compute probabilities for a 20-coin-flip distribution"
   ]
  },
  {
   "cell_type": "code",
   "execution_count": 40,
   "id": "ffe09206",
   "metadata": {},
   "outputs": [],
   "source": [
    "x_20_flips = list(weighted_sample_space_20_flips.keys())\n",
    "y_20_flips = [weighted_sample_space_20_flips[key] for key in x_20_flips]\n",
    "sample_space_size = sum(weighted_sample_space_20_flips.values())\n",
    "prob_x_20_flips = [value / sample_space_size for value in y_20_flips]"
   ]
  },
  {
   "cell_type": "markdown",
   "id": "a6ef76b8",
   "metadata": {},
   "source": [
    "### Plot two simultaneous distributions"
   ]
  },
  {
   "cell_type": "code",
   "execution_count": 41,
   "id": "5bf7c77e",
   "metadata": {},
   "outputs": [
    {
     "data": {
      "image/png": "[encoded data removed]",
      "text/plain": [
       "<Figure size 432x288 with 1 Axes>"
      ]
     },
     "metadata": {
      "needs_background": "light"
     },
     "output_type": "display_data"
    }
   ],
   "source": [
    "plt.plot(x_10_flips, prob_x_10_flips, label='A: 10 coin-flips')\n",
    "plt.scatter(x_10_flips, prob_x_10_flips)\n",
    "plt.plot(x_20_flips, prob_x_20_flips, color='black', linestyle='--', label='B: 20 coin-flips')\n",
    "plt.scatter(x_20_flips, prob_x_20_flips, color='k', marker='x')\n",
    "plt.xlabel('Head-count')\n",
    "plt.ylabel('Probability')\n",
    "plt.legend()\n",
    "plt.show()"
   ]
  },
  {
   "cell_type": "markdown",
   "id": "c3e73a7b",
   "metadata": {},
   "source": [
    "### Highlight intervals beneath two plotted distributions"
   ]
  },
  {
   "cell_type": "code",
   "execution_count": 42,
   "id": "e26a395b",
   "metadata": {},
   "outputs": [
    {
     "data": {
      "image/png": "[encoded data removed]",
      "text/plain": [
       "<Figure size 432x288 with 1 Axes>"
      ]
     },
     "metadata": {
      "needs_background": "light"
     },
     "output_type": "display_data"
    }
   ],
   "source": [
    "plt.plot(x_10_flips, prob_x_10_flips, label='A: 10 coin-flips')\n",
    "plt.plot(x_20_flips, prob_x_20_flips, color='black', linestyle='--', label='B: 20 coin-flips')\n",
    "where_10 = [not is_in_interval(value, 3, 7) for value in x_10_flips]\n",
    "plt.fill_between(x_10_flips, prob_x_10_flips, where=where_10)\n",
    "where_20 = [not is_in_interval(value, 5, 15) for value in x_20_flips]\n",
    "plt.fill_between(x_20_flips, prob_x_20_flips, where=where_20)\n",
    "plt.xlabel('Head-count')\n",
    "plt.ylabel('Probability')\n",
    "plt.legend()\n",
    "plt.show()"
   ]
  },
  {
   "cell_type": "markdown",
   "id": "3bd9eddf",
   "metadata": {},
   "source": [
    "### Convert head counts into frequencies"
   ]
  },
  {
   "cell_type": "code",
   "execution_count": 43,
   "id": "fde43756",
   "metadata": {},
   "outputs": [
    {
     "data": {
      "image/png": "[encoded data removed]",
      "text/plain": [
       "<Figure size 432x288 with 1 Axes>"
      ]
     },
     "metadata": {
      "needs_background": "light"
     },
     "output_type": "display_data"
    }
   ],
   "source": [
    "x_10_frequencies = [head_count / 10 for head_count in x_10_flips]\n",
    "x_20_frequencies = [head_count / 20 for head_count in x_20_flips]\n",
    "\n",
    "plt.plot(x_10_frequencies, prob_x_10_flips, label='A: 10 coin-flips')\n",
    "plt.plot(x_20_frequencies, prob_x_20_flips, color='k', linestyle=':', label='B: 20 coin-flips')\n",
    "plt.legend()\n",
    "plt.xlabel('Head-Frequency')\n",
    "plt.ylabel('Probability')\n",
    "plt.show()"
   ]
  },
  {
   "cell_type": "markdown",
   "id": "ad564df5",
   "metadata": {},
   "source": [
    "### Compute Relative likelihood of frequencies"
   ]
  },
  {
   "cell_type": "code",
   "execution_count": 44,
   "id": "fb24d059",
   "metadata": {},
   "outputs": [],
   "source": [
    "relative_likelihood_10 = [10 * prob for prob in prob_x_10_flips]\n",
    "relative_likelihood_20 = [20 * prob for prob in prob_x_20_flips]"
   ]
  },
  {
   "cell_type": "markdown",
   "id": "6e78a010",
   "metadata": {},
   "source": [
    "### Plot aligned relative likelihood curves"
   ]
  },
  {
   "cell_type": "code",
   "execution_count": 45,
   "id": "3c3548df",
   "metadata": {},
   "outputs": [
    {
     "data": {
      "image/png": "[encoded data removed]",
      "text/plain": [
       "<Figure size 432x288 with 1 Axes>"
      ]
     },
     "metadata": {
      "needs_background": "light"
     },
     "output_type": "display_data"
    }
   ],
   "source": [
    "plt.plot(x_10_frequencies, relative_likelihood_10, label='A: 10 coin-flips')\n",
    "plt.plot(x_20_frequencies, relative_likelihood_20, color='k', linestyle=':', label='B: 20 coin-flips')\n",
    "plt.fill_between(x_10_frequencies, relative_likelihood_10, where=where_10)\n",
    "plt.fill_between(x_20_frequencies, relative_likelihood_20, where=where_20)\n",
    "plt.legend()\n",
    "plt.xlabel('Head-Frequency')\n",
    "plt.ylabel('Relative Likelihood')\n",
    "plt.show()"
   ]
  },
  {
   "cell_type": "code",
   "execution_count": null,
   "id": "e889f2b3",
   "metadata": {},
   "outputs": [],
   "source": []
  }
 ],
 "metadata": {
  "kernelspec": {
   "display_name": "Python 3 (ipykernel)",
   "language": "python",
   "name": "python3"
  },
  "language_info": {
   "codemirror_mode": {
    "name": "ipython",
    "version": 3
   },
   "file_extension": ".py",
   "mimetype": "text/x-python",
   "name": "python",
   "nbconvert_exporter": "python",
   "pygments_lexer": "ipython3",
   "version": "3.10.4"
  }
 },
 "nbformat": 4,
 "nbformat_minor": 5
}
